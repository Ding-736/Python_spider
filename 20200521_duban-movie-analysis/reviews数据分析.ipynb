{
 "cells": [
  {
   "cell_type": "markdown",
   "metadata": {},
   "source": [
    "# 用户电影评论分析"
   ]
  },
  {
   "cell_type": "code",
   "execution_count": 1,
   "metadata": {},
   "outputs": [],
   "source": [
    "from snapshot_selenium import snapshot as driver\n",
    "\n",
    "from pyecharts.render import make_snapshot\n",
    "\n",
    "from pyecharts.globals import CurrentConfig,NotebookType\n",
    "\n",
    "CurrentConfig.NOTEBOOK_TYPE=NotebookType.JUPYTER_LAB"
   ]
  },
  {
   "cell_type": "code",
   "execution_count": 2,
   "metadata": {},
   "outputs": [],
   "source": [
    "import pandas as pd"
   ]
  },
  {
   "cell_type": "code",
   "execution_count": 3,
   "metadata": {},
   "outputs": [],
   "source": [
    "import json\n",
    "\n",
    "datas=[]\n",
    "\n",
    "with open(\"review_final.json\",\"r\",encoding=\"utf-8\") as f:\n",
    "    \n",
    "    for line in f.readlines():\n",
    "        data=list(json.loads(line).values())\n",
    "        datas.append(data)\n",
    "        \n",
    "f.close()"
   ]
  },
  {
   "cell_type": "code",
   "execution_count": 4,
   "metadata": {},
   "outputs": [],
   "source": [
    "import csv\n",
    "with open('review_final.csv', 'w', encoding='utf-8', newline='') as csvFile:\n",
    "    csv.writer(csvFile).writerow(['用户id','用户名','评论内容','用户链接','电影id','电影title','电影tag','电影评分','导演','电影类型','国家','片长','发布时间'])\n",
    "    for rows in datas:\n",
    "        csv.writer(csvFile).writerow(rows)"
   ]
  },
  {
   "cell_type": "code",
   "execution_count": 5,
   "metadata": {},
   "outputs": [],
   "source": [
    "df=pd.read_csv('review_final.csv',engine='python',encoding='utf-8')"
   ]
  },
  {
   "cell_type": "code",
   "execution_count": 6,
   "metadata": {},
   "outputs": [
    {
     "data": {
      "text/plain": [
       "(85692, 13)"
      ]
     },
     "execution_count": 6,
     "metadata": {},
     "output_type": "execute_result"
    }
   ],
   "source": [
    "df.shape"
   ]
  },
  {
   "cell_type": "code",
   "execution_count": 7,
   "metadata": {},
   "outputs": [
    {
     "data": {
      "text/html": [
       "<div>\n",
       "<style scoped>\n",
       "    .dataframe tbody tr th:only-of-type {\n",
       "        vertical-align: middle;\n",
       "    }\n",
       "\n",
       "    .dataframe tbody tr th {\n",
       "        vertical-align: top;\n",
       "    }\n",
       "\n",
       "    .dataframe thead th {\n",
       "        text-align: right;\n",
       "    }\n",
       "</style>\n",
       "<table border=\"1\" class=\"dataframe\">\n",
       "  <thead>\n",
       "    <tr style=\"text-align: right;\">\n",
       "      <th></th>\n",
       "      <th>用户id</th>\n",
       "      <th>用户名</th>\n",
       "      <th>评论内容</th>\n",
       "      <th>用户链接</th>\n",
       "      <th>电影id</th>\n",
       "      <th>电影title</th>\n",
       "      <th>电影tag</th>\n",
       "      <th>电影评分</th>\n",
       "      <th>导演</th>\n",
       "      <th>电影类型</th>\n",
       "      <th>国家</th>\n",
       "      <th>片长</th>\n",
       "      <th>发布时间</th>\n",
       "    </tr>\n",
       "  </thead>\n",
       "  <tbody>\n",
       "    <tr>\n",
       "      <th>0</th>\n",
       "      <td>phoebe627</td>\n",
       "      <td>小月</td>\n",
       "      <td>标题和故事的idea大概出自松本清张的《富士山禁恋》，一个有能力的左右逢源的男人的妻子出轨，...</td>\n",
       "      <td>https://www.douban.com/people/phoebe627/</td>\n",
       "      <td>30405087</td>\n",
       "      <td>火口的两人</td>\n",
       "      <td>爱情</td>\n",
       "      <td>7.0</td>\n",
       "      <td>霍建起</td>\n",
       "      <td>['剧情', '爱情']</td>\n",
       "      <td>中国大陆</td>\n",
       "      <td>96分钟</td>\n",
       "      <td>2020-03-31 12:04:50</td>\n",
       "    </tr>\n",
       "    <tr>\n",
       "      <th>1</th>\n",
       "      <td>yukiyuko</td>\n",
       "      <td>口袋_肥力士</td>\n",
       "      <td>吃饭睡觉聊天打豆豆【误】两位演员的表演都很自然平实，音乐也好听。其实有的时候人和人在一起，做...</td>\n",
       "      <td>https://www.douban.com/people/yukiyuko/</td>\n",
       "      <td>30405087</td>\n",
       "      <td>火口的两人</td>\n",
       "      <td>爱情</td>\n",
       "      <td>7.0</td>\n",
       "      <td>霍建起</td>\n",
       "      <td>['剧情', '爱情']</td>\n",
       "      <td>中国大陆</td>\n",
       "      <td>96分钟</td>\n",
       "      <td>2020-03-25 20:16:00</td>\n",
       "    </tr>\n",
       "    <tr>\n",
       "      <th>2</th>\n",
       "      <td>luhua</td>\n",
       "      <td>芦哲峰</td>\n",
       "      <td>特别喜欢这没羞没臊的两个人，没日没夜没完没了地做啊做，在床上做，在桌上做，在路边胡同里做，在...</td>\n",
       "      <td>https://www.douban.com/people/luhua/</td>\n",
       "      <td>30405087</td>\n",
       "      <td>火口的两人</td>\n",
       "      <td>爱情</td>\n",
       "      <td>7.0</td>\n",
       "      <td>霍建起</td>\n",
       "      <td>['剧情', '爱情']</td>\n",
       "      <td>中国大陆</td>\n",
       "      <td>96分钟</td>\n",
       "      <td>2020-04-01 09:33:19</td>\n",
       "    </tr>\n",
       "    <tr>\n",
       "      <th>3</th>\n",
       "      <td>luzhiyu</td>\n",
       "      <td>陆支羽</td>\n",
       "      <td>4.0。两个想过去死的人。</td>\n",
       "      <td>https://www.douban.com/people/luzhiyu/</td>\n",
       "      <td>30405087</td>\n",
       "      <td>火口的两人</td>\n",
       "      <td>爱情</td>\n",
       "      <td>7.0</td>\n",
       "      <td>霍建起</td>\n",
       "      <td>['剧情', '爱情']</td>\n",
       "      <td>中国大陆</td>\n",
       "      <td>96分钟</td>\n",
       "      <td>2020-03-17 01:54:49</td>\n",
       "    </tr>\n",
       "    <tr>\n",
       "      <th>4</th>\n",
       "      <td>99556117</td>\n",
       "      <td>八屋</td>\n",
       "      <td>（被开动了贤者模式）</td>\n",
       "      <td>https://www.douban.com/people/99556117/</td>\n",
       "      <td>30405087</td>\n",
       "      <td>火口的两人</td>\n",
       "      <td>爱情</td>\n",
       "      <td>7.0</td>\n",
       "      <td>霍建起</td>\n",
       "      <td>['剧情', '爱情']</td>\n",
       "      <td>中国大陆</td>\n",
       "      <td>96分钟</td>\n",
       "      <td>2020-03-23 19:13:52</td>\n",
       "    </tr>\n",
       "  </tbody>\n",
       "</table>\n",
       "</div>"
      ],
      "text/plain": [
       "        用户id     用户名                                               评论内容  \\\n",
       "0  phoebe627      小月  标题和故事的idea大概出自松本清张的《富士山禁恋》，一个有能力的左右逢源的男人的妻子出轨，...   \n",
       "1   yukiyuko  口袋_肥力士  吃饭睡觉聊天打豆豆【误】两位演员的表演都很自然平实，音乐也好听。其实有的时候人和人在一起，做...   \n",
       "2      luhua     芦哲峰  特别喜欢这没羞没臊的两个人，没日没夜没完没了地做啊做，在床上做，在桌上做，在路边胡同里做，在...   \n",
       "3    luzhiyu     陆支羽                                      4.0。两个想过去死的人。   \n",
       "4   99556117      八屋                                         （被开动了贤者模式）   \n",
       "\n",
       "                                       用户链接      电影id 电影title 电影tag  电影评分  \\\n",
       "0  https://www.douban.com/people/phoebe627/  30405087   火口的两人    爱情   7.0   \n",
       "1   https://www.douban.com/people/yukiyuko/  30405087   火口的两人    爱情   7.0   \n",
       "2      https://www.douban.com/people/luhua/  30405087   火口的两人    爱情   7.0   \n",
       "3    https://www.douban.com/people/luzhiyu/  30405087   火口的两人    爱情   7.0   \n",
       "4   https://www.douban.com/people/99556117/  30405087   火口的两人    爱情   7.0   \n",
       "\n",
       "    导演          电影类型     国家    片长                 发布时间  \n",
       "0  霍建起  ['剧情', '爱情']   中国大陆  96分钟  2020-03-31 12:04:50  \n",
       "1  霍建起  ['剧情', '爱情']   中国大陆  96分钟  2020-03-25 20:16:00  \n",
       "2  霍建起  ['剧情', '爱情']   中国大陆  96分钟  2020-04-01 09:33:19  \n",
       "3  霍建起  ['剧情', '爱情']   中国大陆  96分钟  2020-03-17 01:54:49  \n",
       "4  霍建起  ['剧情', '爱情']   中国大陆  96分钟  2020-03-23 19:13:52  "
      ]
     },
     "execution_count": 7,
     "metadata": {},
     "output_type": "execute_result"
    }
   ],
   "source": [
    "df.head(5)"
   ]
  },
  {
   "cell_type": "code",
   "execution_count": 8,
   "metadata": {},
   "outputs": [
    {
     "name": "stdout",
     "output_type": "stream",
     "text": [
      "<class 'pandas.core.frame.DataFrame'>\n",
      "RangeIndex: 85692 entries, 0 to 85691\n",
      "Data columns (total 13 columns):\n",
      " #   Column   Non-Null Count  Dtype  \n",
      "---  ------   --------------  -----  \n",
      " 0   用户id     85692 non-null  object \n",
      " 1   用户名      85685 non-null  object \n",
      " 2   评论内容     85691 non-null  object \n",
      " 3   用户链接     85692 non-null  object \n",
      " 4   电影id     85692 non-null  int64  \n",
      " 5   电影title  85692 non-null  object \n",
      " 6   电影tag    85692 non-null  object \n",
      " 7   电影评分     85692 non-null  float64\n",
      " 8   导演       85692 non-null  object \n",
      " 9   电影类型     85692 non-null  object \n",
      " 10  国家       85692 non-null  object \n",
      " 11  片长       85692 non-null  object \n",
      " 12  发布时间     83504 non-null  object \n",
      "dtypes: float64(1), int64(1), object(11)\n",
      "memory usage: 8.5+ MB\n"
     ]
    }
   ],
   "source": [
    "df.info()"
   ]
  },
  {
   "cell_type": "code",
   "execution_count": 9,
   "metadata": {},
   "outputs": [],
   "source": [
    "df.index=range(len(df))"
   ]
  },
  {
   "cell_type": "markdown",
   "metadata": {},
   "source": [
    "## 1.用户评论次数分析"
   ]
  },
  {
   "cell_type": "code",
   "execution_count": 10,
   "metadata": {},
   "outputs": [
    {
     "data": {
      "text/plain": [
       "qijiuzhiyue     731\n",
       "luzhiyu         578\n",
       "ifanmu          564\n",
       "lingrui1995     558\n",
       "3540441         475\n",
       "               ... \n",
       "23260274          1\n",
       "168654517         1\n",
       "zxc_suki          1\n",
       "qingyewuchen      1\n",
       "65507794          1\n",
       "Name: 用户id, Length: 17959, dtype: int64"
      ]
     },
     "execution_count": 10,
     "metadata": {},
     "output_type": "execute_result"
    }
   ],
   "source": [
    "df['用户id'].value_counts()"
   ]
  },
  {
   "cell_type": "code",
   "execution_count": 11,
   "metadata": {},
   "outputs": [
    {
     "data": {
      "text/plain": [
       "['qijiuzhiyue',\n",
       " 'luzhiyu',\n",
       " 'ifanmu',\n",
       " 'lingrui1995',\n",
       " '3540441',\n",
       " 'zhangzongqian',\n",
       " 'ruo1996',\n",
       " 'tjz230',\n",
       " 'diewithme',\n",
       " 'xilouchen']"
      ]
     },
     "execution_count": 11,
     "metadata": {},
     "output_type": "execute_result"
    }
   ],
   "source": [
    "x=list(df['用户id'].value_counts().index)[:10]\n",
    "x"
   ]
  },
  {
   "cell_type": "code",
   "execution_count": 12,
   "metadata": {},
   "outputs": [
    {
     "data": {
      "text/plain": [
       "[731, 578, 564, 558, 475, 462, 428, 418, 413, 356]"
      ]
     },
     "execution_count": 12,
     "metadata": {},
     "output_type": "execute_result"
    }
   ],
   "source": [
    "y=list(df['用户名'].value_counts().head(10))\n",
    "y"
   ]
  },
  {
   "cell_type": "code",
   "execution_count": 13,
   "metadata": {},
   "outputs": [],
   "source": [
    "data_pairs=[i for i in zip(x,y)]"
   ]
  },
  {
   "cell_type": "code",
   "execution_count": 14,
   "metadata": {},
   "outputs": [],
   "source": [
    "from pyecharts import options as opts\n",
    "from pyecharts.charts import Pie\n",
    "\n",
    "p1=(\n",
    "    Pie(init_opts=opts.InitOpts(width=\"1000px\",height=\"600px\"))\n",
    "    .add(\n",
    "        series_name=\"用户评论数量\",\n",
    "        data_pair=data_pairs\n",
    "    )\n",
    "    .set_global_opts(\n",
    "        title_opts=opts.TitleOpts(title=\"用户评论次数分析\"),\n",
    "        legend_opts=opts.LegendOpts(type_=\"scroll\",pos_left=\"80%\",orient=\"vertical\")\n",
    "    )\n",
    "    .set_series_opts(label_opts=opts.LabelOpts(formatter=\"{b}：{c}\"))\n",
    ")"
   ]
  },
  {
   "cell_type": "code",
   "execution_count": 15,
   "metadata": {},
   "outputs": [],
   "source": [
    "make_snapshot(driver,p1.render(\"Top10-user.html\"),\"Top10-user.png\")"
   ]
  },
  {
   "cell_type": "markdown",
   "metadata": {},
   "source": [
    "## 2.用户观看电影类型分析"
   ]
  },
  {
   "cell_type": "code",
   "execution_count": 16,
   "metadata": {},
   "outputs": [],
   "source": [
    "user=df[df['用户id']==x[0]]"
   ]
  },
  {
   "cell_type": "code",
   "execution_count": 17,
   "metadata": {},
   "outputs": [
    {
     "data": {
      "text/plain": [
       "Int64Index([  167,   182,   234,   300,   475,   510,   527,   540,   664,\n",
       "              775,\n",
       "            ...\n",
       "            82568, 82803, 83268, 83584, 84110, 84198, 84446, 84505, 85283,\n",
       "            85410],\n",
       "           dtype='int64', length=731)"
      ]
     },
     "execution_count": 17,
     "metadata": {},
     "output_type": "execute_result"
    }
   ],
   "source": [
    "user['电影类型'].index"
   ]
  },
  {
   "cell_type": "code",
   "execution_count": 18,
   "metadata": {},
   "outputs": [
    {
     "data": {
      "text/plain": [
       "167                  ['剧情', '爱情']\n",
       "182      ['剧情', '喜剧', '悬疑', '犯罪']\n",
       "234                  ['爱情', '动画']\n",
       "300                  ['剧情', '爱情']\n",
       "475            ['剧情', '动作', '冒险']\n",
       "                   ...           \n",
       "84198                ['动作', '奇幻']\n",
       "84446                ['动作', '奇幻']\n",
       "84505                ['动作', '奇幻']\n",
       "85283          ['喜剧', '动作', '动画']\n",
       "85410          ['喜剧', '动作', '动画']\n",
       "Name: 电影类型, Length: 731, dtype: object"
      ]
     },
     "execution_count": 18,
     "metadata": {},
     "output_type": "execute_result"
    }
   ],
   "source": [
    "user['电影类型']"
   ]
  },
  {
   "cell_type": "code",
   "execution_count": 19,
   "metadata": {},
   "outputs": [],
   "source": [
    "user_type=user.loc[:,'电影类型']"
   ]
  },
  {
   "cell_type": "code",
   "execution_count": 20,
   "metadata": {},
   "outputs": [],
   "source": [
    "x=user_type.value_counts()"
   ]
  },
  {
   "cell_type": "code",
   "execution_count": 21,
   "metadata": {},
   "outputs": [
    {
     "data": {
      "text/plain": [
       "['剧情', '喜剧']          50\n",
       "['剧情', '家庭']          47\n",
       "['剧情']                42\n",
       "['动作', '科幻', '冒险']    37\n",
       "['剧情', '爱情']          33\n",
       "                      ..\n",
       "['爱情', '动画']           1\n",
       "['悬疑', '惊悚', '恐怖']     1\n",
       "['剧情', '传记']           1\n",
       "['剧情', '动作']           1\n",
       "['科幻', '恐怖']           1\n",
       "Name: 电影类型, Length: 82, dtype: int64"
      ]
     },
     "execution_count": 21,
     "metadata": {},
     "output_type": "execute_result"
    }
   ],
   "source": [
    "x"
   ]
  },
  {
   "cell_type": "code",
   "execution_count": 22,
   "metadata": {},
   "outputs": [
    {
     "data": {
      "text/plain": [
       "\"['剧情', '喜剧']['剧情', '家庭']['剧情']['动作', '科幻', '冒险']['剧情', '爱情']['动作', '科幻', '奇幻', '冒险']['动作', '科幻', '动画', '冒险']['剧情', '爱情', '战争']['喜剧', '爱情']['剧情', '动画', '冒险']['动作', '奇幻']['剧情', '喜剧', '传记']['喜剧', '动作', '犯罪']['剧情', '同性', '音乐', '传记']['爱情', '动画', '奇幻']['动作', '惊悚', '冒险']['剧情', '爱情', '悬疑', '战争']['剧情', '家庭', '犯罪']['科幻', '悬疑', '惊悚']['喜剧', '动作', '冒险']['剧情', '悬疑', '犯罪']['喜剧', '动作', '悬疑', '犯罪']['科幻', '惊悚']['动作', '惊悚', '犯罪']['喜剧', '动作']['剧情', '爱情', '同性']['剧情', '喜剧', '冒险']['剧情', '犯罪']['动作']['剧情', '惊悚', '犯罪']['惊悚', '恐怖']['科幻', '惊悚', '恐怖']['喜剧']['剧情', '家庭', '传记']['爱情']['动画', '奇幻']['喜剧', '动画', '奇幻']['喜剧', '爱情', '奇幻']['剧情', '喜剧', '爱情', '战争']['剧情', '喜剧', '动画', '奇幻']['动作', '犯罪']['动作', '惊悚']['剧情', '传记', '犯罪']['喜剧', '动画', '奇幻', '冒险']['喜剧', '惊悚', '奇幻', '冒险']['科幻', '悬疑', '犯罪']['剧情', '悬疑', '恐怖']['喜剧', '动画', '冒险']['动画']['科幻', '冒险', '灾难']['动作', '奇幻', '冒险']['剧情', '爱情', '情色', '传记']['动作', '悬疑', '奇幻', '武侠', '古装']['剧情', '悬疑']['动作', '灾难']['剧情', '动作', '冒险']['剧情', '喜剧', '动作']['剧情', '动作', '武侠']['剧情', '爱情', '情色']['动作', '恐怖']['恐怖']['惊悚', '犯罪']['剧情', '动作', '科幻', '动画']['剧情', '科幻', '动画']['动作', '动画', '犯罪']['喜剧', '动作', '动画']['剧情', '喜剧', '悬疑', '犯罪']['喜剧', '爱情', '家庭']['科幻', '动画']['喜剧', '同性']['剧情', '惊悚', '历史']['喜剧', '动作', '奇幻', '冒险']['喜剧', '情色']['动作', '战争']['动作', '动画', '冒险']['动作', '动画', '家庭']['奇幻', '古装']['爱情', '动画']['悬疑', '惊悚', '恐怖']['剧情', '传记']['剧情', '动作']['科幻', '恐怖']\""
      ]
     },
     "execution_count": 22,
     "metadata": {},
     "output_type": "execute_result"
    }
   ],
   "source": [
    "res=\"\".join(list(x.index))\n",
    "res"
   ]
  },
  {
   "cell_type": "code",
   "execution_count": 23,
   "metadata": {},
   "outputs": [],
   "source": [
    "import re\n",
    "\n",
    "pattern=re.compile(r'\\w+')\n",
    "\n",
    "s=pattern.findall(res)"
   ]
  },
  {
   "cell_type": "code",
   "execution_count": 24,
   "metadata": {},
   "outputs": [],
   "source": [
    "from collections import Counter\n",
    "\n",
    "res=Counter(s)"
   ]
  },
  {
   "cell_type": "code",
   "execution_count": 25,
   "metadata": {},
   "outputs": [],
   "source": [
    "x=[]\n",
    "\n",
    "y=[]\n",
    "\n",
    "for k,v in res.items():\n",
    "    x.append(k)\n",
    "    y.append(v)"
   ]
  },
  {
   "cell_type": "code",
   "execution_count": 26,
   "metadata": {},
   "outputs": [],
   "source": [
    "data_pairs=[]\n",
    "\n",
    "for k,v in res.items():\n",
    "    data_pairs.append((k,v))"
   ]
  },
  {
   "cell_type": "code",
   "execution_count": 27,
   "metadata": {},
   "outputs": [
    {
     "data": {
      "text/plain": [
       "[('剧情', 32),\n",
       " ('喜剧', 23),\n",
       " ('家庭', 5),\n",
       " ('动作', 28),\n",
       " ('科幻', 12),\n",
       " ('冒险', 15),\n",
       " ('爱情', 13),\n",
       " ('奇幻', 13),\n",
       " ('动画', 17),\n",
       " ('战争', 4),\n",
       " ('传记', 6),\n",
       " ('犯罪', 13),\n",
       " ('同性', 3),\n",
       " ('音乐', 1),\n",
       " ('惊悚', 12),\n",
       " ('悬疑', 10),\n",
       " ('恐怖', 7),\n",
       " ('灾难', 2),\n",
       " ('情色', 3),\n",
       " ('武侠', 2),\n",
       " ('古装', 2),\n",
       " ('历史', 1)]"
      ]
     },
     "execution_count": 27,
     "metadata": {},
     "output_type": "execute_result"
    }
   ],
   "source": [
    "data_pairs"
   ]
  },
  {
   "cell_type": "code",
   "execution_count": 28,
   "metadata": {},
   "outputs": [],
   "source": [
    "from pyecharts import options as opts\n",
    "from pyecharts.charts import Bar\n",
    "\n",
    "b1=(\n",
    "    Bar(init_opts=opts.InitOpts(width=\"1000px\",height=\"600px\"))\n",
    "    .add_xaxis(x)\n",
    "    .add_yaxis(\"电影类型次数\",y)\n",
    "    .set_global_opts(\n",
    "        title_opts=opts.TitleOpts(title=\"用户观看电影类型分析\"),\n",
    "        datazoom_opts=opts.DataZoomOpts(),\n",
    "    )\n",
    ")"
   ]
  },
  {
   "cell_type": "code",
   "execution_count": 29,
   "metadata": {},
   "outputs": [],
   "source": [
    "make_snapshot(driver,b1.render(\"User_movie.html\"),\"User_movie.png\")"
   ]
  },
  {
   "cell_type": "markdown",
   "metadata": {},
   "source": [
    "## 3.用户某个电影分析"
   ]
  },
  {
   "cell_type": "code",
   "execution_count": 30,
   "metadata": {},
   "outputs": [
    {
     "data": {
      "text/plain": [
       "['qijiuzhiyue',\n",
       " 'luzhiyu',\n",
       " 'ifanmu',\n",
       " 'lingrui1995',\n",
       " '3540441',\n",
       " 'zhangzongqian',\n",
       " 'ruo1996',\n",
       " 'tjz230',\n",
       " 'diewithme',\n",
       " 'xilouchen']"
      ]
     },
     "execution_count": 30,
     "metadata": {},
     "output_type": "execute_result"
    }
   ],
   "source": [
    "users=list(df['用户id'].value_counts().index)[:10]\n",
    "users"
   ]
  },
  {
   "cell_type": "code",
   "execution_count": 31,
   "metadata": {},
   "outputs": [
    {
     "data": {
      "text/plain": [
       "阴曹使者           36\n",
       "好莱坞往事          20\n",
       "星球大战9：天行者崛起    20\n",
       "刺猬的优雅          20\n",
       "第一滴血5：最后的血     20\n",
       "               ..\n",
       "一百样东西           2\n",
       "朋克武士            2\n",
       "大人物             1\n",
       "虽然只是弄丢了手机       1\n",
       "我的100分男友        1\n",
       "Name: 电影title, Length: 65, dtype: int64"
      ]
     },
     "execution_count": 31,
     "metadata": {},
     "output_type": "execute_result"
    }
   ],
   "source": [
    "user_1=df[df['用户id']==users[0]]\n",
    "user_1['电影title'].value_counts()"
   ]
  },
  {
   "cell_type": "code",
   "execution_count": 32,
   "metadata": {},
   "outputs": [
    {
     "name": "stdout",
     "output_type": "stream",
     "text": [
      "<class 'pandas.core.frame.DataFrame'>\n",
      "Int64Index: 36 entries, 922 to 84505\n",
      "Data columns (total 13 columns):\n",
      " #   Column   Non-Null Count  Dtype  \n",
      "---  ------   --------------  -----  \n",
      " 0   用户id     36 non-null     object \n",
      " 1   用户名      36 non-null     object \n",
      " 2   评论内容     36 non-null     object \n",
      " 3   用户链接     36 non-null     object \n",
      " 4   电影id     36 non-null     int64  \n",
      " 5   电影title  36 non-null     object \n",
      " 6   电影tag    36 non-null     object \n",
      " 7   电影评分     36 non-null     float64\n",
      " 8   导演       36 non-null     object \n",
      " 9   电影类型     36 non-null     object \n",
      " 10  国家       36 non-null     object \n",
      " 11  片长       36 non-null     object \n",
      " 12  发布时间     36 non-null     object \n",
      "dtypes: float64(1), int64(1), object(11)\n",
      "memory usage: 3.9+ KB\n"
     ]
    }
   ],
   "source": [
    "user_1=df[df['用户id']==users[0]]\n",
    "user_1[user_1['电影title']=='阴曹使者'].info()"
   ]
  },
  {
   "cell_type": "code",
   "execution_count": 33,
   "metadata": {},
   "outputs": [],
   "source": [
    "comment=\"\".join(user_1['评论内容'].to_list())"
   ]
  },
  {
   "cell_type": "code",
   "execution_count": 34,
   "metadata": {},
   "outputs": [],
   "source": [
    "pattern = re.compile(r\"[^a-zA-Z0-9\\u4e00-\\u9fa5]\")\n",
    "comment = pattern.sub('',comment)"
   ]
  },
  {
   "cell_type": "code",
   "execution_count": 35,
   "metadata": {},
   "outputs": [],
   "source": [
    "import jieba"
   ]
  },
  {
   "cell_type": "code",
   "execution_count": 36,
   "metadata": {},
   "outputs": [],
   "source": [
    "from pyecharts import options as opts\n",
    "from pyecharts.charts import WordCloud"
   ]
  },
  {
   "cell_type": "code",
   "execution_count": 37,
   "metadata": {},
   "outputs": [
    {
     "name": "stderr",
     "output_type": "stream",
     "text": [
      "Building prefix dict from the default dictionary ...\n",
      "Loading model from cache C:\\Users\\lenovo\\AppData\\Local\\Temp\\jieba.cache\n",
      "Loading model cost 1.450 seconds.\n",
      "Prefix dict has been built successfully.\n"
     ]
    }
   ],
   "source": [
    "def split_word(comment):\n",
    "    \n",
    "    word_list=list(jieba.cut(comment))\n",
    "    \n",
    "    with open(\"stop_words.txt\",encoding=\"utf-8\") as f:\n",
    "        meaningless_word=f.read().splitlines()\n",
    "        \n",
    "    result=[]\n",
    "    \n",
    "    for i in word_list:\n",
    "        if i not in meaningless_word:\n",
    "            result.append(i.replace(\" \",\"\"))\n",
    "            \n",
    "    return result\n",
    "\n",
    "def word_counter(words):\n",
    "    \n",
    "    words_counter=Counter(words)\n",
    "    \n",
    "    words_list=words_counter.most_common(100)\n",
    "    \n",
    "    return words_list\n",
    "\n",
    "\n",
    "def word_cloud(data):\n",
    "    \n",
    "    w=(\n",
    "        WordCloud()\n",
    "        .add(\n",
    "            series_name=\"用户评论词云\",\n",
    "            data_pair=data,\n",
    "            word_size_range=[10,120],\n",
    "            shape=\"cursive\"\n",
    "        )\n",
    "        .set_global_opts(\n",
    "            title_opts=opts.TitleOpts(title=\"用户评论\",title_textstyle_opts=opts.TextStyleOpts(font_size=23)),\n",
    "            tooltip_opts=opts.TooltipOpts(is_show=True)\n",
    "        )\n",
    "    )\n",
    "    \n",
    "    return w\n",
    "\n",
    "def main():\n",
    "    \n",
    "    words=split_word(comment)\n",
    "    \n",
    "    data=word_counter(words)\n",
    "    \n",
    "    w=word_cloud(data)\n",
    "    \n",
    "    return w\n",
    "\n",
    "if __name__==\"__main__\":\n",
    "    \n",
    "    w1=main()"
   ]
  },
  {
   "cell_type": "code",
   "execution_count": 38,
   "metadata": {},
   "outputs": [],
   "source": [
    "make_snapshot(driver,w1.render('User_word.html'),\"User_word.png\")"
   ]
  },
  {
   "cell_type": "markdown",
   "metadata": {},
   "source": [
    "## 4.电影评论客观词云分析"
   ]
  },
  {
   "cell_type": "code",
   "execution_count": 39,
   "metadata": {},
   "outputs": [
    {
     "data": {
      "text/plain": [
       "阴曹使者        4740\n",
       "秦明·生死语者     2400\n",
       "刺猬的优雅       2380\n",
       "路边野餐        2320\n",
       "幻视          1780\n",
       "            ... \n",
       "生日乐园         540\n",
       "我的100分男友     240\n",
       "一百样东西        240\n",
       "少林寺十八罗汉       60\n",
       "龙牌之谜          60\n",
       "Name: 电影title, Length: 71, dtype: int64"
      ]
     },
     "execution_count": 39,
     "metadata": {},
     "output_type": "execute_result"
    }
   ],
   "source": [
    "df['电影title'].value_counts()"
   ]
  },
  {
   "cell_type": "code",
   "execution_count": 40,
   "metadata": {},
   "outputs": [],
   "source": [
    "comment1=df[df[\"电影title\"]==\"阴曹使者\"]\n",
    "comment1=\"\".join(set(comment1['评论内容'].to_list()))"
   ]
  },
  {
   "cell_type": "code",
   "execution_count": 41,
   "metadata": {},
   "outputs": [],
   "source": [
    "pattern = re.compile(r\"[^a-zA-Z0-9\\u4e00-\\u9fa5]\")\n",
    "comment1 = pattern.sub('',comment1)"
   ]
  },
  {
   "cell_type": "code",
   "execution_count": 42,
   "metadata": {},
   "outputs": [],
   "source": [
    "def split_word(comment):\n",
    "    \n",
    "    word_list=list(jieba.cut(comment))\n",
    "    \n",
    "    with open(\"stop_words.txt\",encoding=\"utf-8\") as f:\n",
    "        meaningless_word=f.read().splitlines()\n",
    "        \n",
    "    result=[]\n",
    "    \n",
    "    for i in word_list:\n",
    "        if i not in meaningless_word:\n",
    "            result.append(i.replace(\" \",\"\"))\n",
    "            \n",
    "    return result\n",
    "\n",
    "def word_counter(words):\n",
    "    \n",
    "    words_counter=Counter(words)\n",
    "    \n",
    "    words_list=words_counter.most_common(200)\n",
    "    \n",
    "    return words_list\n",
    "\n",
    "\n",
    "def word_cloud(data):\n",
    "    \n",
    "    w=(\n",
    "        WordCloud()\n",
    "        .add(\n",
    "            series_name=\"电影评论客观词云\",\n",
    "            data_pair=data,\n",
    "            word_size_range=[10,120],\n",
    "            shape=\"cursive\"\n",
    "        )\n",
    "        .set_global_opts(\n",
    "            title_opts=opts.TitleOpts(title=\"电影评论客观词云\",title_textstyle_opts=opts.TextStyleOpts(font_size=23)),\n",
    "            tooltip_opts=opts.TooltipOpts(is_show=True)\n",
    "        )\n",
    "    )\n",
    "    \n",
    "    return w\n",
    "\n",
    "def main():\n",
    "    \n",
    "    words=split_word(comment1)\n",
    "    \n",
    "    data=word_counter(words)\n",
    "    \n",
    "    w=word_cloud(data)\n",
    "    \n",
    "    return w\n",
    "\n",
    "if __name__==\"__main__\":\n",
    "    \n",
    "    w2=main()"
   ]
  },
  {
   "cell_type": "code",
   "execution_count": 43,
   "metadata": {},
   "outputs": [],
   "source": [
    "make_snapshot(driver,w2.render('Movie_word.html'),\"Movie_word.png\")"
   ]
  },
  {
   "cell_type": "markdown",
   "metadata": {},
   "source": [
    "## 5.用户观看电影类别分析"
   ]
  },
  {
   "cell_type": "code",
   "execution_count": 44,
   "metadata": {},
   "outputs": [],
   "source": [
    "movie_type=df['国家'].value_counts()"
   ]
  },
  {
   "cell_type": "code",
   "execution_count": 45,
   "metadata": {},
   "outputs": [],
   "source": [
    "x=list(movie_type.index)[:10]"
   ]
  },
  {
   "cell_type": "code",
   "execution_count": 46,
   "metadata": {},
   "outputs": [],
   "source": [
    "y=movie_type.to_list()[:10]"
   ]
  },
  {
   "cell_type": "code",
   "execution_count": 47,
   "metadata": {},
   "outputs": [
    {
     "data": {
      "text/plain": [
       "[' 美国',\n",
       " ' 日本',\n",
       " ' 韩国',\n",
       " ' 中国大陆',\n",
       " ' 美国 / 英国',\n",
       " ' 英国 / 法国',\n",
       " ' 美国 / 中国大陆',\n",
       " ' 法国',\n",
       " ' 美国 / 新西兰',\n",
       " ' 西班牙']"
      ]
     },
     "execution_count": 47,
     "metadata": {},
     "output_type": "execute_result"
    }
   ],
   "source": [
    "x"
   ]
  },
  {
   "cell_type": "code",
   "execution_count": 48,
   "metadata": {},
   "outputs": [
    {
     "data": {
      "text/plain": [
       "[18680, 15600, 13362, 11590, 2800, 1680, 1680, 1620, 1620, 1560]"
      ]
     },
     "execution_count": 48,
     "metadata": {},
     "output_type": "execute_result"
    }
   ],
   "source": [
    "y"
   ]
  },
  {
   "cell_type": "code",
   "execution_count": 49,
   "metadata": {},
   "outputs": [],
   "source": [
    "data_pairs=[z for z in zip(x,y)]"
   ]
  },
  {
   "cell_type": "code",
   "execution_count": 50,
   "metadata": {},
   "outputs": [],
   "source": [
    "from pyecharts import options as opts\n",
    "from pyecharts.charts import Funnel\n",
    "\n",
    "f1=(\n",
    "    Funnel()\n",
    "    .add(\n",
    "        series_name=\"\",\n",
    "        data_pair=data_pairs\n",
    "    )\n",
    "    .set_global_opts(\n",
    "        title_opts=opts.TitleOpts(title=\"电影国家比重\"),\n",
    "        legend_opts=opts.LegendOpts(type_=\"scroll\",pos_left=\"0%\",pos_top=\"20%\",orient=\"vertical\")\n",
    "    )\n",
    ")"
   ]
  },
  {
   "cell_type": "code",
   "execution_count": 51,
   "metadata": {},
   "outputs": [],
   "source": [
    "make_snapshot(driver,f1.render(\"电影国家比重.html\"),\"电影国家比重.png\")"
   ]
  },
  {
   "cell_type": "markdown",
   "metadata": {},
   "source": [
    "## 6.电影月份评分"
   ]
  },
  {
   "cell_type": "code",
   "execution_count": 52,
   "metadata": {},
   "outputs": [],
   "source": [
    "data=df.dropna()"
   ]
  },
  {
   "cell_type": "code",
   "execution_count": 53,
   "metadata": {},
   "outputs": [],
   "source": [
    "data.index=range(len(data))"
   ]
  },
  {
   "cell_type": "code",
   "execution_count": 54,
   "metadata": {},
   "outputs": [],
   "source": [
    "def Month(s):\n",
    "    \n",
    "    s=s.split('-')\n",
    "    \n",
    "    if s[1]==\"01\":\n",
    "        return \"一月\"\n",
    "    elif s[1]==\"02\":\n",
    "        return \"二月\"\n",
    "    elif s[1]==\"03\":\n",
    "        return \"三月\"\n",
    "    else:\n",
    "        return \"四月\""
   ]
  },
  {
   "cell_type": "code",
   "execution_count": 55,
   "metadata": {},
   "outputs": [
    {
     "name": "stderr",
     "output_type": "stream",
     "text": [
      "E:\\Anaconda\\envs\\mypython\\lib\\site-packages\\ipykernel_launcher.py:1: SettingWithCopyWarning: \n",
      "A value is trying to be set on a copy of a slice from a DataFrame.\n",
      "Try using .loc[row_indexer,col_indexer] = value instead\n",
      "\n",
      "See the caveats in the documentation: https://pandas.pydata.org/pandas-docs/stable/user_guide/indexing.html#returning-a-view-versus-a-copy\n",
      "  \"\"\"Entry point for launching an IPython kernel.\n"
     ]
    }
   ],
   "source": [
    "data[\"电影月份\"]=data[\"发布时间\"].apply(Month)"
   ]
  },
  {
   "cell_type": "code",
   "execution_count": 56,
   "metadata": {},
   "outputs": [],
   "source": [
    "month_one=data[data['电影月份']==\"一月\"][\"电影评分\"]\n",
    "one_result=float(sum(month_one.to_list())/len(month_one.to_list()))"
   ]
  },
  {
   "cell_type": "code",
   "execution_count": 57,
   "metadata": {},
   "outputs": [
    {
     "data": {
      "text/plain": [
       "6.91"
      ]
     },
     "execution_count": 57,
     "metadata": {},
     "output_type": "execute_result"
    }
   ],
   "source": [
    "one_result=float(str(one_result)[:4])\n",
    "one_result"
   ]
  },
  {
   "cell_type": "code",
   "execution_count": 58,
   "metadata": {},
   "outputs": [],
   "source": [
    "month_one=data[data['电影月份']==\"一月\"][\"电影评分\"]\n",
    "one_result=float(sum(month_one.to_list())/len(month_one.to_list()))"
   ]
  },
  {
   "cell_type": "code",
   "execution_count": 59,
   "metadata": {},
   "outputs": [],
   "source": [
    "month=[\"一月\",\"二月\",\"三月\",\"四月\"]\n",
    "\n",
    "def average_rate():\n",
    "    \n",
    "    rate=[]\n",
    "    \n",
    "    for i in month:\n",
    "        month_res=data[data['电影月份']==i][\"电影评分\"]\n",
    "        result=float(sum(month_res.to_list())/len(month_res.to_list()))\n",
    "        \n",
    "        result=float(str(result)[:4])\n",
    "        \n",
    "        rate.append(result)\n",
    "        \n",
    "    return rate\n",
    "        \n",
    "    \n",
    "rate=average_rate()"
   ]
  },
  {
   "cell_type": "code",
   "execution_count": 60,
   "metadata": {},
   "outputs": [
    {
     "data": {
      "text/plain": [
       "['一月', '二月', '三月', '四月']"
      ]
     },
     "execution_count": 60,
     "metadata": {},
     "output_type": "execute_result"
    }
   ],
   "source": [
    "month"
   ]
  },
  {
   "cell_type": "code",
   "execution_count": 61,
   "metadata": {},
   "outputs": [
    {
     "data": {
      "text/plain": [
       "[6.91, 6.97, 6.88, 6.85]"
      ]
     },
     "execution_count": 61,
     "metadata": {},
     "output_type": "execute_result"
    }
   ],
   "source": [
    "rate"
   ]
  },
  {
   "cell_type": "code",
   "execution_count": 62,
   "metadata": {},
   "outputs": [],
   "source": [
    "from pyecharts import options as opts\n",
    "from pyecharts.charts import Line\n",
    "\n",
    "l1=(\n",
    "    Line(init_opts=opts.InitOpts(width=\"1000px\",height=\"600px\"))\n",
    "    .add_xaxis(month)\n",
    "    .add_yaxis(\"电影评分\",rate)\n",
    "    .set_global_opts(\n",
    "        title_opts=opts.TitleOpts(title=\"评分\")\n",
    "    )\n",
    ")"
   ]
  },
  {
   "cell_type": "code",
   "execution_count": 63,
   "metadata": {},
   "outputs": [],
   "source": [
    "make_snapshot(driver,l1.render(\"每月评分.html\"),\"每月评分.png\")"
   ]
  },
  {
   "cell_type": "markdown",
   "metadata": {},
   "source": [
    "## 7.电影类别评分"
   ]
  },
  {
   "cell_type": "code",
   "execution_count": 64,
   "metadata": {},
   "outputs": [],
   "source": [
    "types=df['电影tag'].value_counts()"
   ]
  },
  {
   "cell_type": "code",
   "execution_count": 65,
   "metadata": {},
   "outputs": [],
   "source": [
    "x=list(types.index)"
   ]
  },
  {
   "cell_type": "code",
   "execution_count": 66,
   "metadata": {},
   "outputs": [],
   "source": [
    "y=types.to_list()"
   ]
  },
  {
   "cell_type": "code",
   "execution_count": 67,
   "metadata": {},
   "outputs": [],
   "source": [
    "from pyecharts import options as opts\n",
    "from pyecharts.charts import Pie\n",
    "\n",
    "p2=(\n",
    "    Pie()\n",
    "    .add(\"电影Tag\",\n",
    "         [z for z in zip(x,y)]\n",
    "        )\n",
    "    .set_global_opts(\n",
    "        title_opts=opts.TitleOpts(title=\"电影类别统计\"),\n",
    "        legend_opts=opts.LegendOpts(type_=\"scroll\",pos_left=\"80%\",orient=\"vertical\")\n",
    "    )\n",
    "    .set_series_opts(label_opts=opts.LabelOpts(formatter=\"{b}：{c}\"))\n",
    ")"
   ]
  },
  {
   "cell_type": "code",
   "execution_count": 68,
   "metadata": {},
   "outputs": [],
   "source": [
    "make_snapshot(driver,p2.render(\"电影类别统计.html\"),\"电影类别统计.png\")"
   ]
  },
  {
   "cell_type": "markdown",
   "metadata": {},
   "source": [
    "## 8.各种电影评分"
   ]
  },
  {
   "cell_type": "code",
   "execution_count": 69,
   "metadata": {},
   "outputs": [],
   "source": [
    "def average_rate():\n",
    "    \n",
    "    rate=[]\n",
    "    \n",
    "    for i in x:\n",
    "        month_res=df[df['电影tag']==i][\"电影评分\"]\n",
    "        result=float(sum(month_res.to_list())/len(month_res.to_list()))\n",
    "        \n",
    "        result=float(str(result)[:4])\n",
    "        \n",
    "        rate.append(result)\n",
    "        \n",
    "    return rate"
   ]
  },
  {
   "cell_type": "code",
   "execution_count": 70,
   "metadata": {},
   "outputs": [
    {
     "data": {
      "text/plain": [
       "[5.82,\n",
       " 8.42,\n",
       " 6.85,\n",
       " 6.9,\n",
       " 7.39,\n",
       " 6.04,\n",
       " 6.57,\n",
       " 5.5,\n",
       " 6.25,\n",
       " 8.84,\n",
       " 8.29,\n",
       " 5.0,\n",
       " 5.74,\n",
       " 6.58,\n",
       " 9.25,\n",
       " 6.89]"
      ]
     },
     "execution_count": 70,
     "metadata": {},
     "output_type": "execute_result"
    }
   ],
   "source": [
    "rate=average_rate()\n",
    "rate"
   ]
  },
  {
   "cell_type": "code",
   "execution_count": 71,
   "metadata": {},
   "outputs": [],
   "source": [
    "from pyecharts import options as opts\n",
    "from pyecharts.charts import Pie\n",
    "from pyecharts.faker import Faker\n",
    "\n",
    "p3 = (\n",
    "    Pie()\n",
    "    .add(\n",
    "        \"\",\n",
    "        [list(z) for z in zip(x,rate)],\n",
    "        radius=[\"40%\", \"55%\"],\n",
    "        label_opts=opts.LabelOpts(\n",
    "            position=\"outside\",\n",
    "            formatter=\"{a|{a}}{abg|}\\n{hr|}\\n {b|{b}: }{c}  {per|{d}%}  \",\n",
    "            background_color=\"#eee\",\n",
    "            border_color=\"#aaa\",\n",
    "            border_width=1,\n",
    "            border_radius=4,\n",
    "            rich={\n",
    "                \"a\": {\"color\": \"#999\", \"lineHeight\": 22, \"align\": \"center\"},\n",
    "                \"abg\": {\n",
    "                    \"backgroundColor\": \"#e3e3e3\",\n",
    "                    \"width\": \"100%\",\n",
    "                    \"align\": \"right\",\n",
    "                    \"height\": 22,\n",
    "                    \"borderRadius\": [4, 4, 0, 0],\n",
    "                },\n",
    "                \"hr\": {\n",
    "                    \"borderColor\": \"#aaa\",\n",
    "                    \"width\": \"100%\",\n",
    "                    \"borderWidth\": 0.5,\n",
    "                    \"height\": 0,\n",
    "                },\n",
    "                \"b\": {\"fontSize\": 16, \"lineHeight\": 33},\n",
    "                \"per\": {\n",
    "                    \"color\": \"#eee\",\n",
    "                    \"backgroundColor\": \"#334455\",\n",
    "                    \"padding\": [2, 4],\n",
    "                    \"borderRadius\": 2,\n",
    "                },\n",
    "            },\n",
    "        ),\n",
    "    )\n",
    "    .set_global_opts(\n",
    "        title_opts=opts.TitleOpts(title=\"电影类别平均评分\"),\n",
    "        legend_opts=opts.LegendOpts(type_=\"scroll\",pos_left=\"0%\",pos_top=\"20%\",orient=\"vertical\"),\n",
    "        toolbox_opts=opts.ToolboxOpts(is_show=True)\n",
    "    )\n",
    ")"
   ]
  },
  {
   "cell_type": "code",
   "execution_count": 72,
   "metadata": {},
   "outputs": [],
   "source": [
    "make_snapshot(driver,p3.render('电影类别平均评分.html'),\"电影类别平均评分.png\")"
   ]
  },
  {
   "cell_type": "markdown",
   "metadata": {},
   "source": [
    "类别柱状图"
   ]
  },
  {
   "cell_type": "code",
   "execution_count": 73,
   "metadata": {},
   "outputs": [],
   "source": [
    "from pyecharts import options as opts\n",
    "from pyecharts.charts import Bar\n",
    "\n",
    "b2=(\n",
    "    Bar(init_opts=opts.InitOpts(width=\"1000px\",height=\"600px\"))\n",
    "    .add_xaxis(x)\n",
    "    .add_yaxis(\"电影Tag\",rate)\n",
    "    .set_global_opts(\n",
    "        title_opts=opts.TitleOpts(title=\"电影Tag评分\"),\n",
    "        datazoom_opts=opts.DataZoomOpts(),\n",
    "    )\n",
    ")"
   ]
  },
  {
   "cell_type": "code",
   "execution_count": 74,
   "metadata": {},
   "outputs": [],
   "source": [
    "make_snapshot(driver,b2.render('电影Tag2.html'),\"电影Tag2.png\")"
   ]
  },
  {
   "cell_type": "markdown",
   "metadata": {},
   "source": [
    "## 9.电影导演分析"
   ]
  },
  {
   "cell_type": "code",
   "execution_count": 75,
   "metadata": {},
   "outputs": [
    {
     "data": {
      "text/plain": [
       "安东尼·明格拉     2800\n",
       "是枝裕和        2520\n",
       "福田雄一        2500\n",
       "金容华         2460\n",
       "鲍勃·佩尔西凯蒂    1900\n",
       "            ... \n",
       "彼得·博格         60\n",
       "森义隆           40\n",
       "郑建国           40\n",
       "欧·帕克          40\n",
       "J·A·巴亚纳       20\n",
       "Name: 导演, Length: 158, dtype: int64"
      ]
     },
     "execution_count": 75,
     "metadata": {},
     "output_type": "execute_result"
    }
   ],
   "source": [
    "df[\"导演\"].value_counts()"
   ]
  },
  {
   "cell_type": "code",
   "execution_count": 76,
   "metadata": {},
   "outputs": [],
   "source": [
    "x=list(df[\"导演\"].value_counts().index)[:10]"
   ]
  },
  {
   "cell_type": "code",
   "execution_count": 77,
   "metadata": {},
   "outputs": [],
   "source": [
    "def average_rate():\n",
    "    \n",
    "    rate=[]\n",
    "    \n",
    "    for i in x:\n",
    "        month_res=df[df['导演']==i][\"电影评分\"]\n",
    "        result=float(sum(month_res.to_list())/len(month_res.to_list()))\n",
    "        \n",
    "        result=float(str(result)[:4])\n",
    "        \n",
    "        rate.append(result)\n",
    "        \n",
    "    return rate"
   ]
  },
  {
   "cell_type": "code",
   "execution_count": 78,
   "metadata": {},
   "outputs": [
    {
     "data": {
      "text/plain": [
       "[7.94, 8.0, 6.15, 6.29, 6.65, 7.49, 8.79, 7.0, 6.59, 8.26]"
      ]
     },
     "execution_count": 78,
     "metadata": {},
     "output_type": "execute_result"
    }
   ],
   "source": [
    "rate=average_rate()\n",
    "rate"
   ]
  },
  {
   "cell_type": "code",
   "execution_count": 79,
   "metadata": {},
   "outputs": [],
   "source": [
    "from pyecharts import options as opts\n",
    "from pyecharts.charts import Line\n",
    "\n",
    "\n",
    "b3=(\n",
    "    Bar(init_opts=opts.InitOpts(width=\"1000px\",height=\"600px\"))\n",
    "    .add_xaxis(x)\n",
    "    .add_yaxis(\"电影Tag\",rate)\n",
    "    .set_global_opts(\n",
    "        xaxis_opts=opts.AxisOpts(axislabel_opts=opts.LabelOpts(rotate=-15)),\n",
    "        title_opts=opts.TitleOpts(title=\"电影导演评分\"),\n",
    "        #datazoom_opts=opts.DataZoomOpts(),\n",
    "    )\n",
    ")\n",
    "\n",
    "make_snapshot(driver,b3.render(\"导演评分.html\"),\"导演评分.png\")"
   ]
  },
  {
   "cell_type": "markdown",
   "metadata": {},
   "source": [
    "## 十.图形合并"
   ]
  },
  {
   "cell_type": "code",
   "execution_count": 80,
   "metadata": {},
   "outputs": [
    {
     "data": {
      "text/plain": [
       "'F:\\\\Python\\\\Pytest\\\\spider\\\\movietest2\\\\用户电影评论分析.html'"
      ]
     },
     "execution_count": 80,
     "metadata": {},
     "output_type": "execute_result"
    }
   ],
   "source": [
    "from pyecharts.charts import Page\n",
    "\n",
    "page=Page(layout=Page.DraggablePageLayout)\n",
    "page.add(p1,b1,w1,w2,f1,l1,p2,p3,b2,b3)\n",
    "page.render('用户电影评论分析.html')"
   ]
  },
  {
   "cell_type": "code",
   "execution_count": null,
   "metadata": {},
   "outputs": [],
   "source": []
  }
 ],
 "metadata": {
  "kernelspec": {
   "display_name": "Python 3",
   "language": "python",
   "name": "python3"
  },
  "language_info": {
   "codemirror_mode": {
    "name": "ipython",
    "version": 3
   },
   "file_extension": ".py",
   "mimetype": "text/x-python",
   "name": "python",
   "nbconvert_exporter": "python",
   "pygments_lexer": "ipython3",
   "version": "3.7.6"
  }
 },
 "nbformat": 4,
 "nbformat_minor": 4
}
